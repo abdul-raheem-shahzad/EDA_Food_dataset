{
 "cells": [
  {
   "cell_type": "markdown",
   "id": "0a0c417c",
   "metadata": {
    "papermill": {
     "duration": 0.005907,
     "end_time": "2022-12-05T08:38:46.612149",
     "exception": false,
     "start_time": "2022-12-05T08:38:46.606242",
     "status": "completed"
    },
    "tags": []
   },
   "source": [
    "## <center>***PERFORMING EDA ON FOOD CHOICE OF PARTICPANTS***</center>"
   ]
  },
  {
   "cell_type": "markdown",
   "id": "9a9a9cb7",
   "metadata": {
    "papermill": {
     "duration": 0.004173,
     "end_time": "2022-12-05T08:38:46.621533",
     "exception": false,
     "start_time": "2022-12-05T08:38:46.617360",
     "status": "completed"
    },
    "tags": []
   },
   "source": [
    "### Importing Libraries"
   ]
  },
  {
   "cell_type": "code",
   "execution_count": 1,
   "id": "f4d7cb3e",
   "metadata": {
    "execution": {
     "iopub.execute_input": "2022-12-05T08:38:46.632396Z",
     "iopub.status.busy": "2022-12-05T08:38:46.631896Z",
     "iopub.status.idle": "2022-12-05T08:38:47.876020Z",
     "shell.execute_reply": "2022-12-05T08:38:47.874650Z"
    },
    "papermill": {
     "duration": 1.253612,
     "end_time": "2022-12-05T08:38:47.879539",
     "exception": false,
     "start_time": "2022-12-05T08:38:46.625927",
     "status": "completed"
    },
    "tags": []
   },
   "outputs": [],
   "source": [
    "#importing libraries\n",
    "import pandas as pd\n",
    "import numpy as np\n",
    "import matplotlib.pyplot as plt\n",
    "import seaborn as sns\n",
    "%matplotlib inline"
   ]
  },
  {
   "cell_type": "markdown",
   "id": "a40df6c2",
   "metadata": {
    "papermill": {
     "duration": 0.004446,
     "end_time": "2022-12-05T08:38:47.889063",
     "exception": false,
     "start_time": "2022-12-05T08:38:47.884617",
     "status": "completed"
    },
    "tags": []
   },
   "source": [
    "### Reading Dataset"
   ]
  },
  {
   "cell_type": "code",
   "execution_count": 2,
   "id": "81461a98",
   "metadata": {
    "execution": {
     "iopub.execute_input": "2022-12-05T08:38:47.900419Z",
     "iopub.status.busy": "2022-12-05T08:38:47.899995Z",
     "iopub.status.idle": "2022-12-05T08:38:47.946721Z",
     "shell.execute_reply": "2022-12-05T08:38:47.945444Z"
    },
    "papermill": {
     "duration": 0.05732,
     "end_time": "2022-12-05T08:38:47.951310",
     "exception": false,
     "start_time": "2022-12-05T08:38:47.893990",
     "status": "completed"
    },
    "tags": []
   },
   "outputs": [
    {
     "data": {
      "text/html": [
       "<div>\n",
       "<style scoped>\n",
       "    .dataframe tbody tr th:only-of-type {\n",
       "        vertical-align: middle;\n",
       "    }\n",
       "\n",
       "    .dataframe tbody tr th {\n",
       "        vertical-align: top;\n",
       "    }\n",
       "\n",
       "    .dataframe thead th {\n",
       "        text-align: right;\n",
       "    }\n",
       "</style>\n",
       "<table border=\"1\" class=\"dataframe\">\n",
       "  <thead>\n",
       "    <tr style=\"text-align: right;\">\n",
       "      <th></th>\n",
       "      <th>Timestamp</th>\n",
       "      <th>age</th>\n",
       "      <th>city</th>\n",
       "      <th>weight</th>\n",
       "      <th>height</th>\n",
       "      <th>BMI</th>\n",
       "      <th>salary</th>\n",
       "      <th>gender</th>\n",
       "      <th>qualification</th>\n",
       "      <th>employment_status</th>\n",
       "      <th>covid_vaccine</th>\n",
       "      <th>marital_status</th>\n",
       "      <th>copilot_user</th>\n",
       "      <th>favourite_dish</th>\n",
       "    </tr>\n",
       "  </thead>\n",
       "  <tbody>\n",
       "    <tr>\n",
       "      <th>0</th>\n",
       "      <td>11/12/2022 12:48:13</td>\n",
       "      <td>31.0</td>\n",
       "      <td>Karachi</td>\n",
       "      <td>73.0</td>\n",
       "      <td>165.0</td>\n",
       "      <td>26.8</td>\n",
       "      <td>10000.0</td>\n",
       "      <td>Male</td>\n",
       "      <td>Bachelors</td>\n",
       "      <td>Self Emplyed</td>\n",
       "      <td>Yes</td>\n",
       "      <td>Married</td>\n",
       "      <td>Yes</td>\n",
       "      <td>Biryani</td>\n",
       "    </tr>\n",
       "    <tr>\n",
       "      <th>1</th>\n",
       "      <td>11/12/2022 12:48:15</td>\n",
       "      <td>21.0</td>\n",
       "      <td>Turkey</td>\n",
       "      <td>70.0</td>\n",
       "      <td>170.0</td>\n",
       "      <td>24.9</td>\n",
       "      <td>3000.0</td>\n",
       "      <td>Male</td>\n",
       "      <td>Intermediate</td>\n",
       "      <td>Unemployed</td>\n",
       "      <td>Yes</td>\n",
       "      <td>Other</td>\n",
       "      <td>Yes</td>\n",
       "      <td>Biryani</td>\n",
       "    </tr>\n",
       "    <tr>\n",
       "      <th>2</th>\n",
       "      <td>11/12/2022 12:48:16</td>\n",
       "      <td>41.0</td>\n",
       "      <td>Faisalabad</td>\n",
       "      <td>72.5</td>\n",
       "      <td>156.0</td>\n",
       "      <td>31.2</td>\n",
       "      <td>35000.0</td>\n",
       "      <td>Male</td>\n",
       "      <td>Bachelors</td>\n",
       "      <td>Employed</td>\n",
       "      <td>Yes</td>\n",
       "      <td>Single</td>\n",
       "      <td>Yes</td>\n",
       "      <td>Daal</td>\n",
       "    </tr>\n",
       "    <tr>\n",
       "      <th>3</th>\n",
       "      <td>11/12/2022 12:48:24</td>\n",
       "      <td>22.0</td>\n",
       "      <td>Rawalpindi</td>\n",
       "      <td>75.0</td>\n",
       "      <td>155.0</td>\n",
       "      <td>32.0</td>\n",
       "      <td>50000.0</td>\n",
       "      <td>Male</td>\n",
       "      <td>Bachelors</td>\n",
       "      <td>Self Emplyed</td>\n",
       "      <td>Yes</td>\n",
       "      <td>Single</td>\n",
       "      <td>Yes</td>\n",
       "      <td>Karahi Ghosht</td>\n",
       "    </tr>\n",
       "    <tr>\n",
       "      <th>4</th>\n",
       "      <td>11/12/2022 12:48:25</td>\n",
       "      <td>26.0</td>\n",
       "      <td>Harbin</td>\n",
       "      <td>75.0</td>\n",
       "      <td>179.0</td>\n",
       "      <td>23.4</td>\n",
       "      <td>35000.0</td>\n",
       "      <td>Male</td>\n",
       "      <td>Masters</td>\n",
       "      <td>Unemployed</td>\n",
       "      <td>Yes</td>\n",
       "      <td>Single</td>\n",
       "      <td>No</td>\n",
       "      <td>Daal</td>\n",
       "    </tr>\n",
       "  </tbody>\n",
       "</table>\n",
       "</div>"
      ],
      "text/plain": [
       "             Timestamp   age        city  weight  height   BMI   salary  \\\n",
       "0  11/12/2022 12:48:13  31.0     Karachi    73.0   165.0  26.8  10000.0   \n",
       "1  11/12/2022 12:48:15  21.0      Turkey    70.0   170.0  24.9   3000.0   \n",
       "2  11/12/2022 12:48:16  41.0  Faisalabad    72.5   156.0  31.2  35000.0   \n",
       "3  11/12/2022 12:48:24  22.0  Rawalpindi    75.0   155.0  32.0  50000.0   \n",
       "4  11/12/2022 12:48:25  26.0      Harbin    75.0   179.0  23.4  35000.0   \n",
       "\n",
       "  gender qualification employment_status covid_vaccine marital_status  \\\n",
       "0   Male     Bachelors      Self Emplyed           Yes        Married   \n",
       "1   Male  Intermediate        Unemployed           Yes          Other   \n",
       "2   Male     Bachelors          Employed           Yes         Single   \n",
       "3   Male     Bachelors      Self Emplyed           Yes         Single   \n",
       "4   Male       Masters        Unemployed           Yes         Single   \n",
       "\n",
       "  copilot_user favourite_dish  \n",
       "0          Yes        Biryani  \n",
       "1          Yes        Biryani  \n",
       "2          Yes           Daal  \n",
       "3          Yes  Karahi Ghosht  \n",
       "4           No           Daal  "
      ]
     },
     "execution_count": 2,
     "metadata": {},
     "output_type": "execute_result"
    }
   ],
   "source": [
    "#reading data\n",
    "df = pd.read_csv('/kaggle/input/food-choice-male-vs-female-indianpakistani-food/participants_data.csv')\n",
    "df.head()"
   ]
  },
  {
   "cell_type": "code",
   "execution_count": 3,
   "id": "cf5097f6",
   "metadata": {
    "execution": {
     "iopub.execute_input": "2022-12-05T08:38:47.962972Z",
     "iopub.status.busy": "2022-12-05T08:38:47.962498Z",
     "iopub.status.idle": "2022-12-05T08:38:47.970221Z",
     "shell.execute_reply": "2022-12-05T08:38:47.968944Z"
    },
    "papermill": {
     "duration": 0.016586,
     "end_time": "2022-12-05T08:38:47.972853",
     "exception": false,
     "start_time": "2022-12-05T08:38:47.956267",
     "status": "completed"
    },
    "tags": []
   },
   "outputs": [
    {
     "data": {
      "text/plain": [
       "(90, 14)"
      ]
     },
     "execution_count": 3,
     "metadata": {},
     "output_type": "execute_result"
    }
   ],
   "source": [
    "df.shape"
   ]
  },
  {
   "cell_type": "markdown",
   "id": "e8ec2903",
   "metadata": {
    "papermill": {
     "duration": 0.004635,
     "end_time": "2022-12-05T08:38:47.982509",
     "exception": false,
     "start_time": "2022-12-05T08:38:47.977874",
     "status": "completed"
    },
    "tags": []
   },
   "source": [
    "## 1. Martial Status of the participants"
   ]
  },
  {
   "cell_type": "code",
   "execution_count": 4,
   "id": "262a9307",
   "metadata": {
    "execution": {
     "iopub.execute_input": "2022-12-05T08:38:47.994521Z",
     "iopub.status.busy": "2022-12-05T08:38:47.993976Z",
     "iopub.status.idle": "2022-12-05T08:38:50.636780Z",
     "shell.execute_reply": "2022-12-05T08:38:50.635877Z"
    },
    "papermill": {
     "duration": 2.652519,
     "end_time": "2022-12-05T08:38:50.639919",
     "exception": false,
     "start_time": "2022-12-05T08:38:47.987400",
     "status": "completed"
    },
    "tags": []
   },
   "outputs": [
    {
     "data": {
      "text/html": [
       "        <script type=\"text/javascript\">\n",
       "        window.PlotlyConfig = {MathJaxConfig: 'local'};\n",
       "        if (window.MathJax && window.MathJax.Hub && window.MathJax.Hub.Config) {window.MathJax.Hub.Config({SVG: {font: \"STIX-Web\"}});}\n",
       "        if (typeof require !== 'undefined') {\n",
       "        require.undef(\"plotly\");\n",
       "        requirejs.config({\n",
       "            paths: {\n",
       "                'plotly': ['https://cdn.plot.ly/plotly-2.14.0.min']\n",
       "            }\n",
       "        });\n",
       "        require(['plotly'], function(Plotly) {\n",
       "            window._Plotly = Plotly;\n",
       "        });\n",
       "        }\n",
       "        </script>\n",
       "        "
      ]
     },
     "metadata": {},
     "output_type": "display_data"
    },
    {
     "data": {
      "text/html": [
       "<div>                            <div id=\"181eebd3-4c92-4f8b-8ab8-1451c348d439\" class=\"plotly-graph-div\" style=\"height:400px; width:600px;\"></div>            <script type=\"text/javascript\">                require([\"plotly\"], function(Plotly) {                    window.PLOTLYENV=window.PLOTLYENV || {};                                    if (document.getElementById(\"181eebd3-4c92-4f8b-8ab8-1451c348d439\")) {                    Plotly.newPlot(                        \"181eebd3-4c92-4f8b-8ab8-1451c348d439\",                        [{\"alignmentgroup\":\"True\",\"bingroup\":\"x\",\"hovertemplate\":\"marital_status=%{x}<br>count=%{y}<extra></extra>\",\"legendgroup\":\"Married\",\"marker\":{\"color\":\"rgb(103,0,31)\",\"pattern\":{\"shape\":\"\"},\"line\":{\"color\":\"black\",\"width\":1.5}},\"name\":\"Married\",\"offsetgroup\":\"Married\",\"orientation\":\"v\",\"showlegend\":true,\"x\":[\"Married\",\"Married\",\"Married\",\"Married\",\"Married\",\"Married\",\"Married\",\"Married\",\"Married\",\"Married\",\"Married\",\"Married\",\"Married\",\"Married\",\"Married\",\"Married\",\"Married\",\"Married\",\"Married\",\"Married\",\"Married\",\"Married\",\"Married\",\"Married\",\"Married\",\"Married\",\"Married\",\"Married\",\"Married\",\"Married\",\"Married\",\"Married\",\"Married\",\"Married\",\"Married\",\"Married\",\"Married\",\"Married\"],\"xaxis\":\"x\",\"yaxis\":\"y\",\"type\":\"histogram\"},{\"alignmentgroup\":\"True\",\"bingroup\":\"x\",\"hovertemplate\":\"marital_status=%{x}<br>count=%{y}<extra></extra>\",\"legendgroup\":\"Other\",\"marker\":{\"color\":\"rgb(178,24,43)\",\"pattern\":{\"shape\":\"\"},\"line\":{\"color\":\"black\",\"width\":1.5}},\"name\":\"Other\",\"offsetgroup\":\"Other\",\"orientation\":\"v\",\"showlegend\":true,\"x\":[\"Other\",\"Other\",\"Other\",\"Other\",\"Other\"],\"xaxis\":\"x\",\"yaxis\":\"y\",\"type\":\"histogram\"},{\"alignmentgroup\":\"True\",\"bingroup\":\"x\",\"hovertemplate\":\"marital_status=%{x}<br>count=%{y}<extra></extra>\",\"legendgroup\":\"Single\",\"marker\":{\"color\":\"rgb(214,96,77)\",\"pattern\":{\"shape\":\"\"},\"line\":{\"color\":\"black\",\"width\":1.5}},\"name\":\"Single\",\"offsetgroup\":\"Single\",\"orientation\":\"v\",\"showlegend\":true,\"x\":[\"Single\",\"Single\",\"Single\",\"Single\",\"Single\",\"Single\",\"Single\",\"Single\",\"Single\",\"Single\",\"Single\",\"Single\",\"Single\",\"Single\",\"Single\",\"Single\",\"Single\",\"Single\",\"Single\",\"Single\",\"Single\",\"Single\",\"Single\",\"Single\",\"Single\",\"Single\",\"Single\",\"Single\",\"Single\",\"Single\",\"Single\",\"Single\",\"Single\",\"Single\",\"Single\",\"Single\",\"Single\",\"Single\",\"Single\",\"Single\",\"Single\",\"Single\",\"Single\",\"Single\",\"Single\",\"Single\",\"Single\"],\"xaxis\":\"x\",\"yaxis\":\"y\",\"type\":\"histogram\"}],                        {\"template\":{\"data\":{\"histogram2dcontour\":[{\"type\":\"histogram2dcontour\",\"colorbar\":{\"outlinewidth\":0,\"ticks\":\"\"},\"colorscale\":[[0.0,\"#0d0887\"],[0.1111111111111111,\"#46039f\"],[0.2222222222222222,\"#7201a8\"],[0.3333333333333333,\"#9c179e\"],[0.4444444444444444,\"#bd3786\"],[0.5555555555555556,\"#d8576b\"],[0.6666666666666666,\"#ed7953\"],[0.7777777777777778,\"#fb9f3a\"],[0.8888888888888888,\"#fdca26\"],[1.0,\"#f0f921\"]]}],\"choropleth\":[{\"type\":\"choropleth\",\"colorbar\":{\"outlinewidth\":0,\"ticks\":\"\"}}],\"histogram2d\":[{\"type\":\"histogram2d\",\"colorbar\":{\"outlinewidth\":0,\"ticks\":\"\"},\"colorscale\":[[0.0,\"#0d0887\"],[0.1111111111111111,\"#46039f\"],[0.2222222222222222,\"#7201a8\"],[0.3333333333333333,\"#9c179e\"],[0.4444444444444444,\"#bd3786\"],[0.5555555555555556,\"#d8576b\"],[0.6666666666666666,\"#ed7953\"],[0.7777777777777778,\"#fb9f3a\"],[0.8888888888888888,\"#fdca26\"],[1.0,\"#f0f921\"]]}],\"heatmap\":[{\"type\":\"heatmap\",\"colorbar\":{\"outlinewidth\":0,\"ticks\":\"\"},\"colorscale\":[[0.0,\"#0d0887\"],[0.1111111111111111,\"#46039f\"],[0.2222222222222222,\"#7201a8\"],[0.3333333333333333,\"#9c179e\"],[0.4444444444444444,\"#bd3786\"],[0.5555555555555556,\"#d8576b\"],[0.6666666666666666,\"#ed7953\"],[0.7777777777777778,\"#fb9f3a\"],[0.8888888888888888,\"#fdca26\"],[1.0,\"#f0f921\"]]}],\"heatmapgl\":[{\"type\":\"heatmapgl\",\"colorbar\":{\"outlinewidth\":0,\"ticks\":\"\"},\"colorscale\":[[0.0,\"#0d0887\"],[0.1111111111111111,\"#46039f\"],[0.2222222222222222,\"#7201a8\"],[0.3333333333333333,\"#9c179e\"],[0.4444444444444444,\"#bd3786\"],[0.5555555555555556,\"#d8576b\"],[0.6666666666666666,\"#ed7953\"],[0.7777777777777778,\"#fb9f3a\"],[0.8888888888888888,\"#fdca26\"],[1.0,\"#f0f921\"]]}],\"contourcarpet\":[{\"type\":\"contourcarpet\",\"colorbar\":{\"outlinewidth\":0,\"ticks\":\"\"}}],\"contour\":[{\"type\":\"contour\",\"colorbar\":{\"outlinewidth\":0,\"ticks\":\"\"},\"colorscale\":[[0.0,\"#0d0887\"],[0.1111111111111111,\"#46039f\"],[0.2222222222222222,\"#7201a8\"],[0.3333333333333333,\"#9c179e\"],[0.4444444444444444,\"#bd3786\"],[0.5555555555555556,\"#d8576b\"],[0.6666666666666666,\"#ed7953\"],[0.7777777777777778,\"#fb9f3a\"],[0.8888888888888888,\"#fdca26\"],[1.0,\"#f0f921\"]]}],\"surface\":[{\"type\":\"surface\",\"colorbar\":{\"outlinewidth\":0,\"ticks\":\"\"},\"colorscale\":[[0.0,\"#0d0887\"],[0.1111111111111111,\"#46039f\"],[0.2222222222222222,\"#7201a8\"],[0.3333333333333333,\"#9c179e\"],[0.4444444444444444,\"#bd3786\"],[0.5555555555555556,\"#d8576b\"],[0.6666666666666666,\"#ed7953\"],[0.7777777777777778,\"#fb9f3a\"],[0.8888888888888888,\"#fdca26\"],[1.0,\"#f0f921\"]]}],\"mesh3d\":[{\"type\":\"mesh3d\",\"colorbar\":{\"outlinewidth\":0,\"ticks\":\"\"}}],\"scatter\":[{\"fillpattern\":{\"fillmode\":\"overlay\",\"size\":10,\"solidity\":0.2},\"type\":\"scatter\"}],\"parcoords\":[{\"type\":\"parcoords\",\"line\":{\"colorbar\":{\"outlinewidth\":0,\"ticks\":\"\"}}}],\"scatterpolargl\":[{\"type\":\"scatterpolargl\",\"marker\":{\"colorbar\":{\"outlinewidth\":0,\"ticks\":\"\"}}}],\"bar\":[{\"error_x\":{\"color\":\"#2a3f5f\"},\"error_y\":{\"color\":\"#2a3f5f\"},\"marker\":{\"line\":{\"color\":\"#E5ECF6\",\"width\":0.5},\"pattern\":{\"fillmode\":\"overlay\",\"size\":10,\"solidity\":0.2}},\"type\":\"bar\"}],\"scattergeo\":[{\"type\":\"scattergeo\",\"marker\":{\"colorbar\":{\"outlinewidth\":0,\"ticks\":\"\"}}}],\"scatterpolar\":[{\"type\":\"scatterpolar\",\"marker\":{\"colorbar\":{\"outlinewidth\":0,\"ticks\":\"\"}}}],\"histogram\":[{\"marker\":{\"pattern\":{\"fillmode\":\"overlay\",\"size\":10,\"solidity\":0.2}},\"type\":\"histogram\"}],\"scattergl\":[{\"type\":\"scattergl\",\"marker\":{\"colorbar\":{\"outlinewidth\":0,\"ticks\":\"\"}}}],\"scatter3d\":[{\"type\":\"scatter3d\",\"line\":{\"colorbar\":{\"outlinewidth\":0,\"ticks\":\"\"}},\"marker\":{\"colorbar\":{\"outlinewidth\":0,\"ticks\":\"\"}}}],\"scattermapbox\":[{\"type\":\"scattermapbox\",\"marker\":{\"colorbar\":{\"outlinewidth\":0,\"ticks\":\"\"}}}],\"scatterternary\":[{\"type\":\"scatterternary\",\"marker\":{\"colorbar\":{\"outlinewidth\":0,\"ticks\":\"\"}}}],\"scattercarpet\":[{\"type\":\"scattercarpet\",\"marker\":{\"colorbar\":{\"outlinewidth\":0,\"ticks\":\"\"}}}],\"carpet\":[{\"aaxis\":{\"endlinecolor\":\"#2a3f5f\",\"gridcolor\":\"white\",\"linecolor\":\"white\",\"minorgridcolor\":\"white\",\"startlinecolor\":\"#2a3f5f\"},\"baxis\":{\"endlinecolor\":\"#2a3f5f\",\"gridcolor\":\"white\",\"linecolor\":\"white\",\"minorgridcolor\":\"white\",\"startlinecolor\":\"#2a3f5f\"},\"type\":\"carpet\"}],\"table\":[{\"cells\":{\"fill\":{\"color\":\"#EBF0F8\"},\"line\":{\"color\":\"white\"}},\"header\":{\"fill\":{\"color\":\"#C8D4E3\"},\"line\":{\"color\":\"white\"}},\"type\":\"table\"}],\"barpolar\":[{\"marker\":{\"line\":{\"color\":\"#E5ECF6\",\"width\":0.5},\"pattern\":{\"fillmode\":\"overlay\",\"size\":10,\"solidity\":0.2}},\"type\":\"barpolar\"}],\"pie\":[{\"automargin\":true,\"type\":\"pie\"}]},\"layout\":{\"autotypenumbers\":\"strict\",\"colorway\":[\"#636efa\",\"#EF553B\",\"#00cc96\",\"#ab63fa\",\"#FFA15A\",\"#19d3f3\",\"#FF6692\",\"#B6E880\",\"#FF97FF\",\"#FECB52\"],\"font\":{\"color\":\"#2a3f5f\"},\"hovermode\":\"closest\",\"hoverlabel\":{\"align\":\"left\"},\"paper_bgcolor\":\"white\",\"plot_bgcolor\":\"#E5ECF6\",\"polar\":{\"bgcolor\":\"#E5ECF6\",\"angularaxis\":{\"gridcolor\":\"white\",\"linecolor\":\"white\",\"ticks\":\"\"},\"radialaxis\":{\"gridcolor\":\"white\",\"linecolor\":\"white\",\"ticks\":\"\"}},\"ternary\":{\"bgcolor\":\"#E5ECF6\",\"aaxis\":{\"gridcolor\":\"white\",\"linecolor\":\"white\",\"ticks\":\"\"},\"baxis\":{\"gridcolor\":\"white\",\"linecolor\":\"white\",\"ticks\":\"\"},\"caxis\":{\"gridcolor\":\"white\",\"linecolor\":\"white\",\"ticks\":\"\"}},\"coloraxis\":{\"colorbar\":{\"outlinewidth\":0,\"ticks\":\"\"}},\"colorscale\":{\"sequential\":[[0.0,\"#0d0887\"],[0.1111111111111111,\"#46039f\"],[0.2222222222222222,\"#7201a8\"],[0.3333333333333333,\"#9c179e\"],[0.4444444444444444,\"#bd3786\"],[0.5555555555555556,\"#d8576b\"],[0.6666666666666666,\"#ed7953\"],[0.7777777777777778,\"#fb9f3a\"],[0.8888888888888888,\"#fdca26\"],[1.0,\"#f0f921\"]],\"sequentialminus\":[[0.0,\"#0d0887\"],[0.1111111111111111,\"#46039f\"],[0.2222222222222222,\"#7201a8\"],[0.3333333333333333,\"#9c179e\"],[0.4444444444444444,\"#bd3786\"],[0.5555555555555556,\"#d8576b\"],[0.6666666666666666,\"#ed7953\"],[0.7777777777777778,\"#fb9f3a\"],[0.8888888888888888,\"#fdca26\"],[1.0,\"#f0f921\"]],\"diverging\":[[0,\"#8e0152\"],[0.1,\"#c51b7d\"],[0.2,\"#de77ae\"],[0.3,\"#f1b6da\"],[0.4,\"#fde0ef\"],[0.5,\"#f7f7f7\"],[0.6,\"#e6f5d0\"],[0.7,\"#b8e186\"],[0.8,\"#7fbc41\"],[0.9,\"#4d9221\"],[1,\"#276419\"]]},\"xaxis\":{\"gridcolor\":\"white\",\"linecolor\":\"white\",\"ticks\":\"\",\"title\":{\"standoff\":15},\"zerolinecolor\":\"white\",\"automargin\":true,\"zerolinewidth\":2},\"yaxis\":{\"gridcolor\":\"white\",\"linecolor\":\"white\",\"ticks\":\"\",\"title\":{\"standoff\":15},\"zerolinecolor\":\"white\",\"automargin\":true,\"zerolinewidth\":2},\"scene\":{\"xaxis\":{\"backgroundcolor\":\"#E5ECF6\",\"gridcolor\":\"white\",\"linecolor\":\"white\",\"showbackground\":true,\"ticks\":\"\",\"zerolinecolor\":\"white\",\"gridwidth\":2},\"yaxis\":{\"backgroundcolor\":\"#E5ECF6\",\"gridcolor\":\"white\",\"linecolor\":\"white\",\"showbackground\":true,\"ticks\":\"\",\"zerolinecolor\":\"white\",\"gridwidth\":2},\"zaxis\":{\"backgroundcolor\":\"#E5ECF6\",\"gridcolor\":\"white\",\"linecolor\":\"white\",\"showbackground\":true,\"ticks\":\"\",\"zerolinecolor\":\"white\",\"gridwidth\":2}},\"shapedefaults\":{\"line\":{\"color\":\"#2a3f5f\"}},\"annotationdefaults\":{\"arrowcolor\":\"#2a3f5f\",\"arrowhead\":0,\"arrowwidth\":1},\"geo\":{\"bgcolor\":\"white\",\"landcolor\":\"#E5ECF6\",\"subunitcolor\":\"white\",\"showland\":true,\"showlakes\":true,\"lakecolor\":\"white\"},\"title\":{\"x\":0.05},\"mapbox\":{\"style\":\"light\"}}},\"xaxis\":{\"anchor\":\"y\",\"domain\":[0.0,1.0],\"title\":{\"text\":\"marital_status\"},\"categoryorder\":\"array\",\"categoryarray\":[\"Married\",\"Other\",\"Single\"],\"showline\":true,\"linewidth\":1.5,\"linecolor\":\"black\"},\"yaxis\":{\"anchor\":\"x\",\"domain\":[0.0,1.0],\"title\":{\"text\":\"count\"},\"showgrid\":false,\"showline\":true,\"linewidth\":1.5,\"linecolor\":\"black\"},\"legend\":{\"title\":{\"text\":\"marital_status\"},\"tracegroupgap\":0},\"title\":{\"text\":\"Marital Status\"},\"barmode\":\"relative\",\"width\":600,\"height\":400,\"plot_bgcolor\":\"rgb(245, 235, 235)\",\"paper_bgcolor\":\"rgb(245, 235, 235)\"},                        {\"responsive\": true}                    ).then(function(){\n",
       "                            \n",
       "var gd = document.getElementById('181eebd3-4c92-4f8b-8ab8-1451c348d439');\n",
       "var x = new MutationObserver(function (mutations, observer) {{\n",
       "        var display = window.getComputedStyle(gd).display;\n",
       "        if (!display || display === 'none') {{\n",
       "            console.log([gd, 'removed!']);\n",
       "            Plotly.purge(gd);\n",
       "            observer.disconnect();\n",
       "        }}\n",
       "}});\n",
       "\n",
       "// Listen for the removal of the full notebook cells\n",
       "var notebookContainer = gd.closest('#notebook-container');\n",
       "if (notebookContainer) {{\n",
       "    x.observe(notebookContainer, {childList: true});\n",
       "}}\n",
       "\n",
       "// Listen for the clearing of the current output cell\n",
       "var outputEl = gd.closest('.output');\n",
       "if (outputEl) {{\n",
       "    x.observe(outputEl, {childList: true});\n",
       "}}\n",
       "\n",
       "                        })                };                });            </script>        </div>"
      ]
     },
     "metadata": {},
     "output_type": "display_data"
    }
   ],
   "source": [
    "\n",
    "#make countplot on plotly\n",
    "import plotly.express as px\n",
    "fig = px.histogram(df, x=\"marital_status\", color=\"marital_status\", title=\"Marital Status\", color_discrete_sequence=px.colors.sequential.RdBu)\n",
    "#samll figure\n",
    "fig.update_layout(width=600, height=400)\n",
    "#change background color\n",
    "fig.update_layout(plot_bgcolor='rgb(245, 235, 235)')\n",
    "#remove staright lines from the graph\n",
    "fig.update_yaxes(showgrid=False)\n",
    "#change color of overall figure\n",
    "fig.update_layout(paper_bgcolor='rgb(245, 235, 235)')\n",
    "#put border on x aixs and y axis\n",
    "fig.update_xaxes(showline=True, linewidth=1.5, linecolor='black')\n",
    "fig.update_yaxes(showline=True, linewidth=1.5, linecolor='black')\n",
    "#put border on bars\n",
    "fig.update_traces(marker_line_width=1.5, marker_line_color='black')\n",
    "\n",
    "fig.show()"
   ]
  },
  {
   "cell_type": "markdown",
   "id": "1b2c6eeb",
   "metadata": {
    "papermill": {
     "duration": 0.005386,
     "end_time": "2022-12-05T08:38:50.651497",
     "exception": false,
     "start_time": "2022-12-05T08:38:50.646111",
     "status": "completed"
    },
    "tags": []
   },
   "source": [
    "## 2. Favourite Dish of the participants"
   ]
  },
  {
   "cell_type": "code",
   "execution_count": 5,
   "id": "c8f26b27",
   "metadata": {
    "execution": {
     "iopub.execute_input": "2022-12-05T08:38:50.665486Z",
     "iopub.status.busy": "2022-12-05T08:38:50.665051Z",
     "iopub.status.idle": "2022-12-05T08:38:50.771532Z",
     "shell.execute_reply": "2022-12-05T08:38:50.770173Z"
    },
    "papermill": {
     "duration": 0.116461,
     "end_time": "2022-12-05T08:38:50.774123",
     "exception": false,
     "start_time": "2022-12-05T08:38:50.657662",
     "status": "completed"
    },
    "tags": []
   },
   "outputs": [
    {
     "data": {
      "text/html": [
       "<div>                            <div id=\"dcdee580-587c-4a5a-9084-c433c4fb31fa\" class=\"plotly-graph-div\" style=\"height:400px; width:600px;\"></div>            <script type=\"text/javascript\">                require([\"plotly\"], function(Plotly) {                    window.PLOTLYENV=window.PLOTLYENV || {};                                    if (document.getElementById(\"dcdee580-587c-4a5a-9084-c433c4fb31fa\")) {                    Plotly.newPlot(                        \"dcdee580-587c-4a5a-9084-c433c4fb31fa\",                        [{\"alignmentgroup\":\"True\",\"bingroup\":\"x\",\"hovertemplate\":\"favourite_dish=%{x}<br>count=%{y}<extra></extra>\",\"legendgroup\":\"Biryani\",\"marker\":{\"color\":\"rgb(103,0,31)\",\"pattern\":{\"shape\":\"\"},\"line\":{\"color\":\"black\",\"width\":1.5}},\"name\":\"Biryani\",\"offsetgroup\":\"Biryani\",\"orientation\":\"v\",\"showlegend\":true,\"x\":[\"Biryani\",\"Biryani\",\"Biryani\",\"Biryani\",\"Biryani\",\"Biryani\",\"Biryani\",\"Biryani\",\"Biryani\",\"Biryani\",\"Biryani\",\"Biryani\",\"Biryani\",\"Biryani\",\"Biryani\",\"Biryani\",\"Biryani\",\"Biryani\",\"Biryani\",\"Biryani\",\"Biryani\",\"Biryani\",\"Biryani\",\"Biryani\",\"Biryani\",\"Biryani\",\"Biryani\",\"Biryani\",\"Biryani\",\"Biryani\",\"Biryani\",\"Biryani\",\"Biryani\",\"Biryani\",\"Biryani\",\"Biryani\",\"Biryani\"],\"xaxis\":\"x\",\"yaxis\":\"y\",\"type\":\"histogram\"},{\"alignmentgroup\":\"True\",\"bingroup\":\"x\",\"hovertemplate\":\"favourite_dish=%{x}<br>count=%{y}<extra></extra>\",\"legendgroup\":\"Daal\",\"marker\":{\"color\":\"rgb(178,24,43)\",\"pattern\":{\"shape\":\"\"},\"line\":{\"color\":\"black\",\"width\":1.5}},\"name\":\"Daal\",\"offsetgroup\":\"Daal\",\"orientation\":\"v\",\"showlegend\":true,\"x\":[\"Daal\",\"Daal\",\"Daal\",\"Daal\",\"Daal\",\"Daal\",\"Daal\",\"Daal\"],\"xaxis\":\"x\",\"yaxis\":\"y\",\"type\":\"histogram\"},{\"alignmentgroup\":\"True\",\"bingroup\":\"x\",\"hovertemplate\":\"favourite_dish=%{x}<br>count=%{y}<extra></extra>\",\"legendgroup\":\"Karahi Ghosht\",\"marker\":{\"color\":\"rgb(214,96,77)\",\"pattern\":{\"shape\":\"\"},\"line\":{\"color\":\"black\",\"width\":1.5}},\"name\":\"Karahi Ghosht\",\"offsetgroup\":\"Karahi Ghosht\",\"orientation\":\"v\",\"showlegend\":true,\"x\":[\"Karahi Ghosht\",\"Karahi Ghosht\",\"Karahi Ghosht\",\"Karahi Ghosht\",\"Karahi Ghosht\",\"Karahi Ghosht\",\"Karahi Ghosht\",\"Karahi Ghosht\",\"Karahi Ghosht\",\"Karahi Ghosht\",\"Karahi Ghosht\",\"Karahi Ghosht\",\"Karahi Ghosht\",\"Karahi Ghosht\",\"Karahi Ghosht\",\"Karahi Ghosht\",\"Karahi Ghosht\",\"Karahi Ghosht\",\"Karahi Ghosht\",\"Karahi Ghosht\",\"Karahi Ghosht\",\"Karahi Ghosht\",\"Karahi Ghosht\",\"Karahi Ghosht\",\"Karahi Ghosht\",\"Karahi Ghosht\",\"Karahi Ghosht\"],\"xaxis\":\"x\",\"yaxis\":\"y\",\"type\":\"histogram\"},{\"alignmentgroup\":\"True\",\"bingroup\":\"x\",\"hovertemplate\":\"favourite_dish=%{x}<br>count=%{y}<extra></extra>\",\"legendgroup\":\"Saag\",\"marker\":{\"color\":\"rgb(244,165,130)\",\"pattern\":{\"shape\":\"\"},\"line\":{\"color\":\"black\",\"width\":1.5}},\"name\":\"Saag\",\"offsetgroup\":\"Saag\",\"orientation\":\"v\",\"showlegend\":true,\"x\":[\"Saag\",\"Saag\",\"Saag\",\"Saag\",\"Saag\",\"Saag\",\"Saag\",\"Saag\",\"Saag\",\"Saag\",\"Saag\",\"Saag\"],\"xaxis\":\"x\",\"yaxis\":\"y\",\"type\":\"histogram\"},{\"alignmentgroup\":\"True\",\"bingroup\":\"x\",\"hovertemplate\":\"favourite_dish=%{x}<br>count=%{y}<extra></extra>\",\"legendgroup\":\"Naan Haleem\",\"marker\":{\"color\":\"rgb(253,219,199)\",\"pattern\":{\"shape\":\"\"},\"line\":{\"color\":\"black\",\"width\":1.5}},\"name\":\"Naan Haleem\",\"offsetgroup\":\"Naan Haleem\",\"orientation\":\"v\",\"showlegend\":true,\"x\":[\"Naan Haleem\",\"Naan Haleem\",\"Naan Haleem\",\"Naan Haleem\",\"Naan Haleem\",\"Naan Haleem\"],\"xaxis\":\"x\",\"yaxis\":\"y\",\"type\":\"histogram\"}],                        {\"template\":{\"data\":{\"histogram2dcontour\":[{\"type\":\"histogram2dcontour\",\"colorbar\":{\"outlinewidth\":0,\"ticks\":\"\"},\"colorscale\":[[0.0,\"#0d0887\"],[0.1111111111111111,\"#46039f\"],[0.2222222222222222,\"#7201a8\"],[0.3333333333333333,\"#9c179e\"],[0.4444444444444444,\"#bd3786\"],[0.5555555555555556,\"#d8576b\"],[0.6666666666666666,\"#ed7953\"],[0.7777777777777778,\"#fb9f3a\"],[0.8888888888888888,\"#fdca26\"],[1.0,\"#f0f921\"]]}],\"choropleth\":[{\"type\":\"choropleth\",\"colorbar\":{\"outlinewidth\":0,\"ticks\":\"\"}}],\"histogram2d\":[{\"type\":\"histogram2d\",\"colorbar\":{\"outlinewidth\":0,\"ticks\":\"\"},\"colorscale\":[[0.0,\"#0d0887\"],[0.1111111111111111,\"#46039f\"],[0.2222222222222222,\"#7201a8\"],[0.3333333333333333,\"#9c179e\"],[0.4444444444444444,\"#bd3786\"],[0.5555555555555556,\"#d8576b\"],[0.6666666666666666,\"#ed7953\"],[0.7777777777777778,\"#fb9f3a\"],[0.8888888888888888,\"#fdca26\"],[1.0,\"#f0f921\"]]}],\"heatmap\":[{\"type\":\"heatmap\",\"colorbar\":{\"outlinewidth\":0,\"ticks\":\"\"},\"colorscale\":[[0.0,\"#0d0887\"],[0.1111111111111111,\"#46039f\"],[0.2222222222222222,\"#7201a8\"],[0.3333333333333333,\"#9c179e\"],[0.4444444444444444,\"#bd3786\"],[0.5555555555555556,\"#d8576b\"],[0.6666666666666666,\"#ed7953\"],[0.7777777777777778,\"#fb9f3a\"],[0.8888888888888888,\"#fdca26\"],[1.0,\"#f0f921\"]]}],\"heatmapgl\":[{\"type\":\"heatmapgl\",\"colorbar\":{\"outlinewidth\":0,\"ticks\":\"\"},\"colorscale\":[[0.0,\"#0d0887\"],[0.1111111111111111,\"#46039f\"],[0.2222222222222222,\"#7201a8\"],[0.3333333333333333,\"#9c179e\"],[0.4444444444444444,\"#bd3786\"],[0.5555555555555556,\"#d8576b\"],[0.6666666666666666,\"#ed7953\"],[0.7777777777777778,\"#fb9f3a\"],[0.8888888888888888,\"#fdca26\"],[1.0,\"#f0f921\"]]}],\"contourcarpet\":[{\"type\":\"contourcarpet\",\"colorbar\":{\"outlinewidth\":0,\"ticks\":\"\"}}],\"contour\":[{\"type\":\"contour\",\"colorbar\":{\"outlinewidth\":0,\"ticks\":\"\"},\"colorscale\":[[0.0,\"#0d0887\"],[0.1111111111111111,\"#46039f\"],[0.2222222222222222,\"#7201a8\"],[0.3333333333333333,\"#9c179e\"],[0.4444444444444444,\"#bd3786\"],[0.5555555555555556,\"#d8576b\"],[0.6666666666666666,\"#ed7953\"],[0.7777777777777778,\"#fb9f3a\"],[0.8888888888888888,\"#fdca26\"],[1.0,\"#f0f921\"]]}],\"surface\":[{\"type\":\"surface\",\"colorbar\":{\"outlinewidth\":0,\"ticks\":\"\"},\"colorscale\":[[0.0,\"#0d0887\"],[0.1111111111111111,\"#46039f\"],[0.2222222222222222,\"#7201a8\"],[0.3333333333333333,\"#9c179e\"],[0.4444444444444444,\"#bd3786\"],[0.5555555555555556,\"#d8576b\"],[0.6666666666666666,\"#ed7953\"],[0.7777777777777778,\"#fb9f3a\"],[0.8888888888888888,\"#fdca26\"],[1.0,\"#f0f921\"]]}],\"mesh3d\":[{\"type\":\"mesh3d\",\"colorbar\":{\"outlinewidth\":0,\"ticks\":\"\"}}],\"scatter\":[{\"fillpattern\":{\"fillmode\":\"overlay\",\"size\":10,\"solidity\":0.2},\"type\":\"scatter\"}],\"parcoords\":[{\"type\":\"parcoords\",\"line\":{\"colorbar\":{\"outlinewidth\":0,\"ticks\":\"\"}}}],\"scatterpolargl\":[{\"type\":\"scatterpolargl\",\"marker\":{\"colorbar\":{\"outlinewidth\":0,\"ticks\":\"\"}}}],\"bar\":[{\"error_x\":{\"color\":\"#2a3f5f\"},\"error_y\":{\"color\":\"#2a3f5f\"},\"marker\":{\"line\":{\"color\":\"#E5ECF6\",\"width\":0.5},\"pattern\":{\"fillmode\":\"overlay\",\"size\":10,\"solidity\":0.2}},\"type\":\"bar\"}],\"scattergeo\":[{\"type\":\"scattergeo\",\"marker\":{\"colorbar\":{\"outlinewidth\":0,\"ticks\":\"\"}}}],\"scatterpolar\":[{\"type\":\"scatterpolar\",\"marker\":{\"colorbar\":{\"outlinewidth\":0,\"ticks\":\"\"}}}],\"histogram\":[{\"marker\":{\"pattern\":{\"fillmode\":\"overlay\",\"size\":10,\"solidity\":0.2}},\"type\":\"histogram\"}],\"scattergl\":[{\"type\":\"scattergl\",\"marker\":{\"colorbar\":{\"outlinewidth\":0,\"ticks\":\"\"}}}],\"scatter3d\":[{\"type\":\"scatter3d\",\"line\":{\"colorbar\":{\"outlinewidth\":0,\"ticks\":\"\"}},\"marker\":{\"colorbar\":{\"outlinewidth\":0,\"ticks\":\"\"}}}],\"scattermapbox\":[{\"type\":\"scattermapbox\",\"marker\":{\"colorbar\":{\"outlinewidth\":0,\"ticks\":\"\"}}}],\"scatterternary\":[{\"type\":\"scatterternary\",\"marker\":{\"colorbar\":{\"outlinewidth\":0,\"ticks\":\"\"}}}],\"scattercarpet\":[{\"type\":\"scattercarpet\",\"marker\":{\"colorbar\":{\"outlinewidth\":0,\"ticks\":\"\"}}}],\"carpet\":[{\"aaxis\":{\"endlinecolor\":\"#2a3f5f\",\"gridcolor\":\"white\",\"linecolor\":\"white\",\"minorgridcolor\":\"white\",\"startlinecolor\":\"#2a3f5f\"},\"baxis\":{\"endlinecolor\":\"#2a3f5f\",\"gridcolor\":\"white\",\"linecolor\":\"white\",\"minorgridcolor\":\"white\",\"startlinecolor\":\"#2a3f5f\"},\"type\":\"carpet\"}],\"table\":[{\"cells\":{\"fill\":{\"color\":\"#EBF0F8\"},\"line\":{\"color\":\"white\"}},\"header\":{\"fill\":{\"color\":\"#C8D4E3\"},\"line\":{\"color\":\"white\"}},\"type\":\"table\"}],\"barpolar\":[{\"marker\":{\"line\":{\"color\":\"#E5ECF6\",\"width\":0.5},\"pattern\":{\"fillmode\":\"overlay\",\"size\":10,\"solidity\":0.2}},\"type\":\"barpolar\"}],\"pie\":[{\"automargin\":true,\"type\":\"pie\"}]},\"layout\":{\"autotypenumbers\":\"strict\",\"colorway\":[\"#636efa\",\"#EF553B\",\"#00cc96\",\"#ab63fa\",\"#FFA15A\",\"#19d3f3\",\"#FF6692\",\"#B6E880\",\"#FF97FF\",\"#FECB52\"],\"font\":{\"color\":\"#2a3f5f\"},\"hovermode\":\"closest\",\"hoverlabel\":{\"align\":\"left\"},\"paper_bgcolor\":\"white\",\"plot_bgcolor\":\"#E5ECF6\",\"polar\":{\"bgcolor\":\"#E5ECF6\",\"angularaxis\":{\"gridcolor\":\"white\",\"linecolor\":\"white\",\"ticks\":\"\"},\"radialaxis\":{\"gridcolor\":\"white\",\"linecolor\":\"white\",\"ticks\":\"\"}},\"ternary\":{\"bgcolor\":\"#E5ECF6\",\"aaxis\":{\"gridcolor\":\"white\",\"linecolor\":\"white\",\"ticks\":\"\"},\"baxis\":{\"gridcolor\":\"white\",\"linecolor\":\"white\",\"ticks\":\"\"},\"caxis\":{\"gridcolor\":\"white\",\"linecolor\":\"white\",\"ticks\":\"\"}},\"coloraxis\":{\"colorbar\":{\"outlinewidth\":0,\"ticks\":\"\"}},\"colorscale\":{\"sequential\":[[0.0,\"#0d0887\"],[0.1111111111111111,\"#46039f\"],[0.2222222222222222,\"#7201a8\"],[0.3333333333333333,\"#9c179e\"],[0.4444444444444444,\"#bd3786\"],[0.5555555555555556,\"#d8576b\"],[0.6666666666666666,\"#ed7953\"],[0.7777777777777778,\"#fb9f3a\"],[0.8888888888888888,\"#fdca26\"],[1.0,\"#f0f921\"]],\"sequentialminus\":[[0.0,\"#0d0887\"],[0.1111111111111111,\"#46039f\"],[0.2222222222222222,\"#7201a8\"],[0.3333333333333333,\"#9c179e\"],[0.4444444444444444,\"#bd3786\"],[0.5555555555555556,\"#d8576b\"],[0.6666666666666666,\"#ed7953\"],[0.7777777777777778,\"#fb9f3a\"],[0.8888888888888888,\"#fdca26\"],[1.0,\"#f0f921\"]],\"diverging\":[[0,\"#8e0152\"],[0.1,\"#c51b7d\"],[0.2,\"#de77ae\"],[0.3,\"#f1b6da\"],[0.4,\"#fde0ef\"],[0.5,\"#f7f7f7\"],[0.6,\"#e6f5d0\"],[0.7,\"#b8e186\"],[0.8,\"#7fbc41\"],[0.9,\"#4d9221\"],[1,\"#276419\"]]},\"xaxis\":{\"gridcolor\":\"white\",\"linecolor\":\"white\",\"ticks\":\"\",\"title\":{\"standoff\":15},\"zerolinecolor\":\"white\",\"automargin\":true,\"zerolinewidth\":2},\"yaxis\":{\"gridcolor\":\"white\",\"linecolor\":\"white\",\"ticks\":\"\",\"title\":{\"standoff\":15},\"zerolinecolor\":\"white\",\"automargin\":true,\"zerolinewidth\":2},\"scene\":{\"xaxis\":{\"backgroundcolor\":\"#E5ECF6\",\"gridcolor\":\"white\",\"linecolor\":\"white\",\"showbackground\":true,\"ticks\":\"\",\"zerolinecolor\":\"white\",\"gridwidth\":2},\"yaxis\":{\"backgroundcolor\":\"#E5ECF6\",\"gridcolor\":\"white\",\"linecolor\":\"white\",\"showbackground\":true,\"ticks\":\"\",\"zerolinecolor\":\"white\",\"gridwidth\":2},\"zaxis\":{\"backgroundcolor\":\"#E5ECF6\",\"gridcolor\":\"white\",\"linecolor\":\"white\",\"showbackground\":true,\"ticks\":\"\",\"zerolinecolor\":\"white\",\"gridwidth\":2}},\"shapedefaults\":{\"line\":{\"color\":\"#2a3f5f\"}},\"annotationdefaults\":{\"arrowcolor\":\"#2a3f5f\",\"arrowhead\":0,\"arrowwidth\":1},\"geo\":{\"bgcolor\":\"white\",\"landcolor\":\"#E5ECF6\",\"subunitcolor\":\"white\",\"showland\":true,\"showlakes\":true,\"lakecolor\":\"white\"},\"title\":{\"x\":0.05},\"mapbox\":{\"style\":\"light\"}}},\"xaxis\":{\"anchor\":\"y\",\"domain\":[0.0,1.0],\"title\":{\"text\":\"favourite_dish\"},\"categoryorder\":\"array\",\"categoryarray\":[\"Biryani\",\"Daal\",\"Karahi Ghosht\",\"Saag\",\"Naan Haleem\"],\"showline\":true,\"linewidth\":1.5,\"linecolor\":\"black\"},\"yaxis\":{\"anchor\":\"x\",\"domain\":[0.0,1.0],\"title\":{\"text\":\"count\"},\"showgrid\":false,\"showline\":true,\"linewidth\":1.5,\"linecolor\":\"black\"},\"legend\":{\"title\":{\"text\":\"favourite_dish\"},\"tracegroupgap\":0},\"title\":{\"text\":\"Favoriate Dish\"},\"barmode\":\"relative\",\"width\":600,\"height\":400,\"plot_bgcolor\":\"rgb(245, 235, 235)\",\"paper_bgcolor\":\"rgb(245, 235, 235)\"},                        {\"responsive\": true}                    ).then(function(){\n",
       "                            \n",
       "var gd = document.getElementById('dcdee580-587c-4a5a-9084-c433c4fb31fa');\n",
       "var x = new MutationObserver(function (mutations, observer) {{\n",
       "        var display = window.getComputedStyle(gd).display;\n",
       "        if (!display || display === 'none') {{\n",
       "            console.log([gd, 'removed!']);\n",
       "            Plotly.purge(gd);\n",
       "            observer.disconnect();\n",
       "        }}\n",
       "}});\n",
       "\n",
       "// Listen for the removal of the full notebook cells\n",
       "var notebookContainer = gd.closest('#notebook-container');\n",
       "if (notebookContainer) {{\n",
       "    x.observe(notebookContainer, {childList: true});\n",
       "}}\n",
       "\n",
       "// Listen for the clearing of the current output cell\n",
       "var outputEl = gd.closest('.output');\n",
       "if (outputEl) {{\n",
       "    x.observe(outputEl, {childList: true});\n",
       "}}\n",
       "\n",
       "                        })                };                });            </script>        </div>"
      ]
     },
     "metadata": {},
     "output_type": "display_data"
    }
   ],
   "source": [
    "#favoriate dish of all participants\n",
    "fig = px.histogram(df, x=\"favourite_dish\", color=\"favourite_dish\", title=\"Favoriate Dish\", color_discrete_sequence=px.colors.sequential.RdBu)\n",
    "#samll figure\n",
    "fig.update_layout(width=600, height=400)\n",
    "#change background color\n",
    "fig.update_layout(plot_bgcolor='rgb(245, 235, 235)')\n",
    "#remove staright lines from the graph\n",
    "fig.update_yaxes(showgrid=False)\n",
    "#change color of overall figure\n",
    "fig.update_layout(paper_bgcolor='rgb(245, 235, 235)')\n",
    "#put border on x aixs and y axis\n",
    "fig.update_xaxes(showline=True, linewidth=1.5, linecolor='black')\n",
    "fig.update_yaxes(showline=True, linewidth=1.5, linecolor='black')\n",
    "#put border on bars\n",
    "fig.update_traces(marker_line_width=1.5, marker_line_color='black')\n",
    "fig.show()"
   ]
  },
  {
   "cell_type": "markdown",
   "id": "2971fe65",
   "metadata": {
    "papermill": {
     "duration": 0.005672,
     "end_time": "2022-12-05T08:38:50.785885",
     "exception": false,
     "start_time": "2022-12-05T08:38:50.780213",
     "status": "completed"
    },
    "tags": []
   },
   "source": [
    "## 3. Favourite Dish male vs Female"
   ]
  },
  {
   "cell_type": "code",
   "execution_count": 6,
   "id": "daa3e54e",
   "metadata": {
    "execution": {
     "iopub.execute_input": "2022-12-05T08:38:50.799614Z",
     "iopub.status.busy": "2022-12-05T08:38:50.799207Z",
     "iopub.status.idle": "2022-12-05T08:38:51.011853Z",
     "shell.execute_reply": "2022-12-05T08:38:51.010336Z"
    },
    "papermill": {
     "duration": 0.223088,
     "end_time": "2022-12-05T08:38:51.014874",
     "exception": false,
     "start_time": "2022-12-05T08:38:50.791786",
     "status": "completed"
    },
    "tags": []
   },
   "outputs": [
    {
     "data": {
      "text/html": [
       "<div>                            <div id=\"35a6bea5-677d-45d0-a588-8f1b6f18d293\" class=\"plotly-graph-div\" style=\"height:400px; width:1000px;\"></div>            <script type=\"text/javascript\">                require([\"plotly\"], function(Plotly) {                    window.PLOTLYENV=window.PLOTLYENV || {};                                    if (document.getElementById(\"35a6bea5-677d-45d0-a588-8f1b6f18d293\")) {                    Plotly.newPlot(                        \"35a6bea5-677d-45d0-a588-8f1b6f18d293\",                        [{\"alignmentgroup\":\"True\",\"hovertemplate\":\"favourite_dish=%{x}<br>gender=Male<br>age=%{y}<extra></extra>\",\"legendgroup\":\"Biryani\",\"marker\":{\"color\":\"rgb(103,0,31)\",\"line\":{\"color\":\"black\",\"width\":1.5}},\"name\":\"Biryani\",\"notched\":false,\"offsetgroup\":\"Biryani\",\"orientation\":\"v\",\"showlegend\":true,\"x\":[\"Biryani\",\"Biryani\",\"Biryani\",\"Biryani\",\"Biryani\",\"Biryani\",\"Biryani\",\"Biryani\",\"Biryani\",\"Biryani\",\"Biryani\",\"Biryani\",\"Biryani\",\"Biryani\",\"Biryani\",\"Biryani\",\"Biryani\",\"Biryani\",\"Biryani\",\"Biryani\",\"Biryani\",\"Biryani\",\"Biryani\",\"Biryani\",\"Biryani\",\"Biryani\",\"Biryani\",\"Biryani\",\"Biryani\",\"Biryani\",\"Biryani\",\"Biryani\",\"Biryani\"],\"x0\":\" \",\"xaxis\":\"x\",\"y\":[31.0,21.0,33.0,26.0,30.0,20.0,26.0,25.0,22.0,19.0,29.0,24.0,21.0,28.0,24.0,42.0,30.0,21.0,24.0,31.0,21.5,22.0,20.0,35.0,35.0,23.0,22.0,51.0,27.0,22.0,40.0,23.0,30.0],\"y0\":\" \",\"yaxis\":\"y\",\"type\":\"box\"},{\"alignmentgroup\":\"True\",\"hovertemplate\":\"favourite_dish=%{x}<br>gender=Female<br>age=%{y}<extra></extra>\",\"legendgroup\":\"Biryani\",\"marker\":{\"color\":\"rgb(103,0,31)\",\"line\":{\"color\":\"black\",\"width\":1.5}},\"name\":\"Biryani\",\"notched\":false,\"offsetgroup\":\"Biryani\",\"orientation\":\"v\",\"showlegend\":false,\"x\":[\"Biryani\",\"Biryani\",\"Biryani\",\"Biryani\"],\"x0\":\" \",\"xaxis\":\"x2\",\"y\":[34.0,32.0,30.0,32.0],\"y0\":\" \",\"yaxis\":\"y2\",\"type\":\"box\"},{\"alignmentgroup\":\"True\",\"hovertemplate\":\"favourite_dish=%{x}<br>gender=Male<br>age=%{y}<extra></extra>\",\"legendgroup\":\"Daal\",\"marker\":{\"color\":\"rgb(178,24,43)\",\"line\":{\"color\":\"black\",\"width\":1.5}},\"name\":\"Daal\",\"notched\":false,\"offsetgroup\":\"Daal\",\"orientation\":\"v\",\"showlegend\":true,\"x\":[\"Daal\",\"Daal\",\"Daal\",\"Daal\",\"Daal\",\"Daal\",\"Daal\"],\"x0\":\" \",\"xaxis\":\"x\",\"y\":[41.0,26.0,21.0,34.0,45.0,35.0,36.0],\"y0\":\" \",\"yaxis\":\"y\",\"type\":\"box\"},{\"alignmentgroup\":\"True\",\"hovertemplate\":\"favourite_dish=%{x}<br>gender=Female<br>age=%{y}<extra></extra>\",\"legendgroup\":\"Daal\",\"marker\":{\"color\":\"rgb(178,24,43)\",\"line\":{\"color\":\"black\",\"width\":1.5}},\"name\":\"Daal\",\"notched\":false,\"offsetgroup\":\"Daal\",\"orientation\":\"v\",\"showlegend\":false,\"x\":[\"Daal\"],\"x0\":\" \",\"xaxis\":\"x2\",\"y\":[22.0],\"y0\":\" \",\"yaxis\":\"y2\",\"type\":\"box\"},{\"alignmentgroup\":\"True\",\"hovertemplate\":\"favourite_dish=%{x}<br>gender=Male<br>age=%{y}<extra></extra>\",\"legendgroup\":\"Karahi Ghosht\",\"marker\":{\"color\":\"rgb(214,96,77)\",\"line\":{\"color\":\"black\",\"width\":1.5}},\"name\":\"Karahi Ghosht\",\"notched\":false,\"offsetgroup\":\"Karahi Ghosht\",\"orientation\":\"v\",\"showlegend\":true,\"x\":[\"Karahi Ghosht\",\"Karahi Ghosht\",\"Karahi Ghosht\",\"Karahi Ghosht\",\"Karahi Ghosht\",\"Karahi Ghosht\",\"Karahi Ghosht\",\"Karahi Ghosht\",\"Karahi Ghosht\",\"Karahi Ghosht\",\"Karahi Ghosht\",\"Karahi Ghosht\",\"Karahi Ghosht\",\"Karahi Ghosht\",\"Karahi Ghosht\",\"Karahi Ghosht\",\"Karahi Ghosht\",\"Karahi Ghosht\",\"Karahi Ghosht\",\"Karahi Ghosht\",\"Karahi Ghosht\",\"Karahi Ghosht\",\"Karahi Ghosht\"],\"x0\":\" \",\"xaxis\":\"x\",\"y\":[22.0,37.0,23.0,31.0,22.0,31.0,37.0,37.0,29.0,20.0,32.0,36.0,27.0,29.0,24.0,23.0,28.0,29.0,28.0,27.0,38.0,18.0,22.0],\"y0\":\" \",\"yaxis\":\"y\",\"type\":\"box\"},{\"alignmentgroup\":\"True\",\"hovertemplate\":\"favourite_dish=%{x}<br>gender=Female<br>age=%{y}<extra></extra>\",\"legendgroup\":\"Karahi Ghosht\",\"marker\":{\"color\":\"rgb(214,96,77)\",\"line\":{\"color\":\"black\",\"width\":1.5}},\"name\":\"Karahi Ghosht\",\"notched\":false,\"offsetgroup\":\"Karahi Ghosht\",\"orientation\":\"v\",\"showlegend\":false,\"x\":[\"Karahi Ghosht\",\"Karahi Ghosht\",\"Karahi Ghosht\",\"Karahi Ghosht\"],\"x0\":\" \",\"xaxis\":\"x2\",\"y\":[31.0,35.0,26.0,20.0],\"y0\":\" \",\"yaxis\":\"y2\",\"type\":\"box\"},{\"alignmentgroup\":\"True\",\"hovertemplate\":\"favourite_dish=%{x}<br>gender=Male<br>age=%{y}<extra></extra>\",\"legendgroup\":\"Saag\",\"marker\":{\"color\":\"rgb(244,165,130)\",\"line\":{\"color\":\"black\",\"width\":1.5}},\"name\":\"Saag\",\"notched\":false,\"offsetgroup\":\"Saag\",\"orientation\":\"v\",\"showlegend\":true,\"x\":[\"Saag\",\"Saag\",\"Saag\",\"Saag\",\"Saag\",\"Saag\",\"Saag\"],\"x0\":\" \",\"xaxis\":\"x\",\"y\":[23.0,22.0,33.0,37.5,33.0,33.0,22.0],\"y0\":\" \",\"yaxis\":\"y\",\"type\":\"box\"},{\"alignmentgroup\":\"True\",\"hovertemplate\":\"favourite_dish=%{x}<br>gender=Female<br>age=%{y}<extra></extra>\",\"legendgroup\":\"Saag\",\"marker\":{\"color\":\"rgb(244,165,130)\",\"line\":{\"color\":\"black\",\"width\":1.5}},\"name\":\"Saag\",\"notched\":false,\"offsetgroup\":\"Saag\",\"orientation\":\"v\",\"showlegend\":false,\"x\":[\"Saag\",\"Saag\",\"Saag\",\"Saag\",\"Saag\"],\"x0\":\" \",\"xaxis\":\"x2\",\"y\":[33.0,25.0,39.0,34.0,55.0],\"y0\":\" \",\"yaxis\":\"y2\",\"type\":\"box\"},{\"alignmentgroup\":\"True\",\"hovertemplate\":\"favourite_dish=%{x}<br>gender=Male<br>age=%{y}<extra></extra>\",\"legendgroup\":\"Naan Haleem\",\"marker\":{\"color\":\"rgb(253,219,199)\",\"line\":{\"color\":\"black\",\"width\":1.5}},\"name\":\"Naan Haleem\",\"notched\":false,\"offsetgroup\":\"Naan Haleem\",\"orientation\":\"v\",\"showlegend\":true,\"x\":[\"Naan Haleem\"],\"x0\":\" \",\"xaxis\":\"x\",\"y\":[27.0],\"y0\":\" \",\"yaxis\":\"y\",\"type\":\"box\"},{\"alignmentgroup\":\"True\",\"hovertemplate\":\"favourite_dish=%{x}<br>gender=Female<br>age=%{y}<extra></extra>\",\"legendgroup\":\"Naan Haleem\",\"marker\":{\"color\":\"rgb(253,219,199)\",\"line\":{\"color\":\"black\",\"width\":1.5}},\"name\":\"Naan Haleem\",\"notched\":false,\"offsetgroup\":\"Naan Haleem\",\"orientation\":\"v\",\"showlegend\":false,\"x\":[\"Naan Haleem\",\"Naan Haleem\",\"Naan Haleem\",\"Naan Haleem\",\"Naan Haleem\"],\"x0\":\" \",\"xaxis\":\"x2\",\"y\":[32.0,34.0,35.0,23.0,39.0],\"y0\":\" \",\"yaxis\":\"y2\",\"type\":\"box\"}],                        {\"template\":{\"data\":{\"histogram2dcontour\":[{\"type\":\"histogram2dcontour\",\"colorbar\":{\"outlinewidth\":0,\"ticks\":\"\"},\"colorscale\":[[0.0,\"#0d0887\"],[0.1111111111111111,\"#46039f\"],[0.2222222222222222,\"#7201a8\"],[0.3333333333333333,\"#9c179e\"],[0.4444444444444444,\"#bd3786\"],[0.5555555555555556,\"#d8576b\"],[0.6666666666666666,\"#ed7953\"],[0.7777777777777778,\"#fb9f3a\"],[0.8888888888888888,\"#fdca26\"],[1.0,\"#f0f921\"]]}],\"choropleth\":[{\"type\":\"choropleth\",\"colorbar\":{\"outlinewidth\":0,\"ticks\":\"\"}}],\"histogram2d\":[{\"type\":\"histogram2d\",\"colorbar\":{\"outlinewidth\":0,\"ticks\":\"\"},\"colorscale\":[[0.0,\"#0d0887\"],[0.1111111111111111,\"#46039f\"],[0.2222222222222222,\"#7201a8\"],[0.3333333333333333,\"#9c179e\"],[0.4444444444444444,\"#bd3786\"],[0.5555555555555556,\"#d8576b\"],[0.6666666666666666,\"#ed7953\"],[0.7777777777777778,\"#fb9f3a\"],[0.8888888888888888,\"#fdca26\"],[1.0,\"#f0f921\"]]}],\"heatmap\":[{\"type\":\"heatmap\",\"colorbar\":{\"outlinewidth\":0,\"ticks\":\"\"},\"colorscale\":[[0.0,\"#0d0887\"],[0.1111111111111111,\"#46039f\"],[0.2222222222222222,\"#7201a8\"],[0.3333333333333333,\"#9c179e\"],[0.4444444444444444,\"#bd3786\"],[0.5555555555555556,\"#d8576b\"],[0.6666666666666666,\"#ed7953\"],[0.7777777777777778,\"#fb9f3a\"],[0.8888888888888888,\"#fdca26\"],[1.0,\"#f0f921\"]]}],\"heatmapgl\":[{\"type\":\"heatmapgl\",\"colorbar\":{\"outlinewidth\":0,\"ticks\":\"\"},\"colorscale\":[[0.0,\"#0d0887\"],[0.1111111111111111,\"#46039f\"],[0.2222222222222222,\"#7201a8\"],[0.3333333333333333,\"#9c179e\"],[0.4444444444444444,\"#bd3786\"],[0.5555555555555556,\"#d8576b\"],[0.6666666666666666,\"#ed7953\"],[0.7777777777777778,\"#fb9f3a\"],[0.8888888888888888,\"#fdca26\"],[1.0,\"#f0f921\"]]}],\"contourcarpet\":[{\"type\":\"contourcarpet\",\"colorbar\":{\"outlinewidth\":0,\"ticks\":\"\"}}],\"contour\":[{\"type\":\"contour\",\"colorbar\":{\"outlinewidth\":0,\"ticks\":\"\"},\"colorscale\":[[0.0,\"#0d0887\"],[0.1111111111111111,\"#46039f\"],[0.2222222222222222,\"#7201a8\"],[0.3333333333333333,\"#9c179e\"],[0.4444444444444444,\"#bd3786\"],[0.5555555555555556,\"#d8576b\"],[0.6666666666666666,\"#ed7953\"],[0.7777777777777778,\"#fb9f3a\"],[0.8888888888888888,\"#fdca26\"],[1.0,\"#f0f921\"]]}],\"surface\":[{\"type\":\"surface\",\"colorbar\":{\"outlinewidth\":0,\"ticks\":\"\"},\"colorscale\":[[0.0,\"#0d0887\"],[0.1111111111111111,\"#46039f\"],[0.2222222222222222,\"#7201a8\"],[0.3333333333333333,\"#9c179e\"],[0.4444444444444444,\"#bd3786\"],[0.5555555555555556,\"#d8576b\"],[0.6666666666666666,\"#ed7953\"],[0.7777777777777778,\"#fb9f3a\"],[0.8888888888888888,\"#fdca26\"],[1.0,\"#f0f921\"]]}],\"mesh3d\":[{\"type\":\"mesh3d\",\"colorbar\":{\"outlinewidth\":0,\"ticks\":\"\"}}],\"scatter\":[{\"fillpattern\":{\"fillmode\":\"overlay\",\"size\":10,\"solidity\":0.2},\"type\":\"scatter\"}],\"parcoords\":[{\"type\":\"parcoords\",\"line\":{\"colorbar\":{\"outlinewidth\":0,\"ticks\":\"\"}}}],\"scatterpolargl\":[{\"type\":\"scatterpolargl\",\"marker\":{\"colorbar\":{\"outlinewidth\":0,\"ticks\":\"\"}}}],\"bar\":[{\"error_x\":{\"color\":\"#2a3f5f\"},\"error_y\":{\"color\":\"#2a3f5f\"},\"marker\":{\"line\":{\"color\":\"#E5ECF6\",\"width\":0.5},\"pattern\":{\"fillmode\":\"overlay\",\"size\":10,\"solidity\":0.2}},\"type\":\"bar\"}],\"scattergeo\":[{\"type\":\"scattergeo\",\"marker\":{\"colorbar\":{\"outlinewidth\":0,\"ticks\":\"\"}}}],\"scatterpolar\":[{\"type\":\"scatterpolar\",\"marker\":{\"colorbar\":{\"outlinewidth\":0,\"ticks\":\"\"}}}],\"histogram\":[{\"marker\":{\"pattern\":{\"fillmode\":\"overlay\",\"size\":10,\"solidity\":0.2}},\"type\":\"histogram\"}],\"scattergl\":[{\"type\":\"scattergl\",\"marker\":{\"colorbar\":{\"outlinewidth\":0,\"ticks\":\"\"}}}],\"scatter3d\":[{\"type\":\"scatter3d\",\"line\":{\"colorbar\":{\"outlinewidth\":0,\"ticks\":\"\"}},\"marker\":{\"colorbar\":{\"outlinewidth\":0,\"ticks\":\"\"}}}],\"scattermapbox\":[{\"type\":\"scattermapbox\",\"marker\":{\"colorbar\":{\"outlinewidth\":0,\"ticks\":\"\"}}}],\"scatterternary\":[{\"type\":\"scatterternary\",\"marker\":{\"colorbar\":{\"outlinewidth\":0,\"ticks\":\"\"}}}],\"scattercarpet\":[{\"type\":\"scattercarpet\",\"marker\":{\"colorbar\":{\"outlinewidth\":0,\"ticks\":\"\"}}}],\"carpet\":[{\"aaxis\":{\"endlinecolor\":\"#2a3f5f\",\"gridcolor\":\"white\",\"linecolor\":\"white\",\"minorgridcolor\":\"white\",\"startlinecolor\":\"#2a3f5f\"},\"baxis\":{\"endlinecolor\":\"#2a3f5f\",\"gridcolor\":\"white\",\"linecolor\":\"white\",\"minorgridcolor\":\"white\",\"startlinecolor\":\"#2a3f5f\"},\"type\":\"carpet\"}],\"table\":[{\"cells\":{\"fill\":{\"color\":\"#EBF0F8\"},\"line\":{\"color\":\"white\"}},\"header\":{\"fill\":{\"color\":\"#C8D4E3\"},\"line\":{\"color\":\"white\"}},\"type\":\"table\"}],\"barpolar\":[{\"marker\":{\"line\":{\"color\":\"#E5ECF6\",\"width\":0.5},\"pattern\":{\"fillmode\":\"overlay\",\"size\":10,\"solidity\":0.2}},\"type\":\"barpolar\"}],\"pie\":[{\"automargin\":true,\"type\":\"pie\"}]},\"layout\":{\"autotypenumbers\":\"strict\",\"colorway\":[\"#636efa\",\"#EF553B\",\"#00cc96\",\"#ab63fa\",\"#FFA15A\",\"#19d3f3\",\"#FF6692\",\"#B6E880\",\"#FF97FF\",\"#FECB52\"],\"font\":{\"color\":\"#2a3f5f\"},\"hovermode\":\"closest\",\"hoverlabel\":{\"align\":\"left\"},\"paper_bgcolor\":\"white\",\"plot_bgcolor\":\"#E5ECF6\",\"polar\":{\"bgcolor\":\"#E5ECF6\",\"angularaxis\":{\"gridcolor\":\"white\",\"linecolor\":\"white\",\"ticks\":\"\"},\"radialaxis\":{\"gridcolor\":\"white\",\"linecolor\":\"white\",\"ticks\":\"\"}},\"ternary\":{\"bgcolor\":\"#E5ECF6\",\"aaxis\":{\"gridcolor\":\"white\",\"linecolor\":\"white\",\"ticks\":\"\"},\"baxis\":{\"gridcolor\":\"white\",\"linecolor\":\"white\",\"ticks\":\"\"},\"caxis\":{\"gridcolor\":\"white\",\"linecolor\":\"white\",\"ticks\":\"\"}},\"coloraxis\":{\"colorbar\":{\"outlinewidth\":0,\"ticks\":\"\"}},\"colorscale\":{\"sequential\":[[0.0,\"#0d0887\"],[0.1111111111111111,\"#46039f\"],[0.2222222222222222,\"#7201a8\"],[0.3333333333333333,\"#9c179e\"],[0.4444444444444444,\"#bd3786\"],[0.5555555555555556,\"#d8576b\"],[0.6666666666666666,\"#ed7953\"],[0.7777777777777778,\"#fb9f3a\"],[0.8888888888888888,\"#fdca26\"],[1.0,\"#f0f921\"]],\"sequentialminus\":[[0.0,\"#0d0887\"],[0.1111111111111111,\"#46039f\"],[0.2222222222222222,\"#7201a8\"],[0.3333333333333333,\"#9c179e\"],[0.4444444444444444,\"#bd3786\"],[0.5555555555555556,\"#d8576b\"],[0.6666666666666666,\"#ed7953\"],[0.7777777777777778,\"#fb9f3a\"],[0.8888888888888888,\"#fdca26\"],[1.0,\"#f0f921\"]],\"diverging\":[[0,\"#8e0152\"],[0.1,\"#c51b7d\"],[0.2,\"#de77ae\"],[0.3,\"#f1b6da\"],[0.4,\"#fde0ef\"],[0.5,\"#f7f7f7\"],[0.6,\"#e6f5d0\"],[0.7,\"#b8e186\"],[0.8,\"#7fbc41\"],[0.9,\"#4d9221\"],[1,\"#276419\"]]},\"xaxis\":{\"gridcolor\":\"white\",\"linecolor\":\"white\",\"ticks\":\"\",\"title\":{\"standoff\":15},\"zerolinecolor\":\"white\",\"automargin\":true,\"zerolinewidth\":2},\"yaxis\":{\"gridcolor\":\"white\",\"linecolor\":\"white\",\"ticks\":\"\",\"title\":{\"standoff\":15},\"zerolinecolor\":\"white\",\"automargin\":true,\"zerolinewidth\":2},\"scene\":{\"xaxis\":{\"backgroundcolor\":\"#E5ECF6\",\"gridcolor\":\"white\",\"linecolor\":\"white\",\"showbackground\":true,\"ticks\":\"\",\"zerolinecolor\":\"white\",\"gridwidth\":2},\"yaxis\":{\"backgroundcolor\":\"#E5ECF6\",\"gridcolor\":\"white\",\"linecolor\":\"white\",\"showbackground\":true,\"ticks\":\"\",\"zerolinecolor\":\"white\",\"gridwidth\":2},\"zaxis\":{\"backgroundcolor\":\"#E5ECF6\",\"gridcolor\":\"white\",\"linecolor\":\"white\",\"showbackground\":true,\"ticks\":\"\",\"zerolinecolor\":\"white\",\"gridwidth\":2}},\"shapedefaults\":{\"line\":{\"color\":\"#2a3f5f\"}},\"annotationdefaults\":{\"arrowcolor\":\"#2a3f5f\",\"arrowhead\":0,\"arrowwidth\":1},\"geo\":{\"bgcolor\":\"white\",\"landcolor\":\"#E5ECF6\",\"subunitcolor\":\"white\",\"showland\":true,\"showlakes\":true,\"lakecolor\":\"white\"},\"title\":{\"x\":0.05},\"mapbox\":{\"style\":\"light\"}}},\"xaxis\":{\"anchor\":\"y\",\"domain\":[0.0,0.49],\"title\":{\"text\":\"favourite_dish\"},\"categoryorder\":\"array\",\"categoryarray\":[\"Biryani\",\"Daal\",\"Karahi Ghosht\",\"Saag\",\"Naan Haleem\"],\"showline\":true,\"linewidth\":1.5,\"linecolor\":\"black\"},\"yaxis\":{\"anchor\":\"x\",\"domain\":[0.0,1.0],\"title\":{\"text\":\"age\"},\"showgrid\":false,\"showline\":true,\"linewidth\":1.5,\"linecolor\":\"black\"},\"xaxis2\":{\"anchor\":\"y2\",\"domain\":[0.51,1.0],\"matches\":\"x\",\"title\":{\"text\":\"favourite_dish\"},\"categoryorder\":\"array\",\"categoryarray\":[\"Biryani\",\"Daal\",\"Karahi Ghosht\",\"Saag\",\"Naan Haleem\"],\"showline\":true,\"linewidth\":1.5,\"linecolor\":\"black\"},\"yaxis2\":{\"anchor\":\"x2\",\"domain\":[0.0,1.0],\"matches\":\"y\",\"showticklabels\":false,\"showgrid\":false,\"showline\":true,\"linewidth\":1.5,\"linecolor\":\"black\"},\"annotations\":[{\"font\":{},\"showarrow\":false,\"text\":\"gender=Male\",\"x\":0.245,\"xanchor\":\"center\",\"xref\":\"paper\",\"y\":1.0,\"yanchor\":\"bottom\",\"yref\":\"paper\"},{\"font\":{},\"showarrow\":false,\"text\":\"gender=Female\",\"x\":0.755,\"xanchor\":\"center\",\"xref\":\"paper\",\"y\":1.0,\"yanchor\":\"bottom\",\"yref\":\"paper\"}],\"legend\":{\"title\":{\"text\":\"favourite_dish\"},\"tracegroupgap\":0},\"title\":{\"text\":\"Favoriate Dish\"},\"boxmode\":\"overlay\",\"width\":1000,\"height\":400,\"plot_bgcolor\":\"rgb(245, 235, 235)\",\"paper_bgcolor\":\"rgb(245, 235, 235)\"},                        {\"responsive\": true}                    ).then(function(){\n",
       "                            \n",
       "var gd = document.getElementById('35a6bea5-677d-45d0-a588-8f1b6f18d293');\n",
       "var x = new MutationObserver(function (mutations, observer) {{\n",
       "        var display = window.getComputedStyle(gd).display;\n",
       "        if (!display || display === 'none') {{\n",
       "            console.log([gd, 'removed!']);\n",
       "            Plotly.purge(gd);\n",
       "            observer.disconnect();\n",
       "        }}\n",
       "}});\n",
       "\n",
       "// Listen for the removal of the full notebook cells\n",
       "var notebookContainer = gd.closest('#notebook-container');\n",
       "if (notebookContainer) {{\n",
       "    x.observe(notebookContainer, {childList: true});\n",
       "}}\n",
       "\n",
       "// Listen for the clearing of the current output cell\n",
       "var outputEl = gd.closest('.output');\n",
       "if (outputEl) {{\n",
       "    x.observe(outputEl, {childList: true});\n",
       "}}\n",
       "\n",
       "                        })                };                });            </script>        </div>"
      ]
     },
     "metadata": {},
     "output_type": "display_data"
    }
   ],
   "source": [
    "#favorutewrt to age\n",
    "fig = px.box(df, x=\"favourite_dish\",y='age', color=\"favourite_dish\",facet_col=\"gender\", title=\"Favoriate Dish\", color_discrete_sequence=px.colors.sequential.RdBu)\n",
    "#samll figure\n",
    "fig.update_layout(width=1000, height=400)\n",
    "#change background color\n",
    "fig.update_layout(plot_bgcolor='rgb(245, 235, 235)')\n",
    "#remove staright lines from the graph\n",
    "fig.update_yaxes(showgrid=False)\n",
    "#change color of overall figure\n",
    "fig.update_layout(paper_bgcolor='rgb(245, 235, 235)')\n",
    "#put border on x aixs and y axis\n",
    "fig.update_xaxes(showline=True, linewidth=1.5, linecolor='black')\n",
    "fig.update_yaxes(showline=True, linewidth=1.5, linecolor='black')\n",
    "#put border on bars\n",
    "fig.update_traces(marker_line_width=1.5, marker_line_color='black')\n",
    "fig.show()"
   ]
  },
  {
   "cell_type": "markdown",
   "id": "292cea69",
   "metadata": {
    "papermill": {
     "duration": 0.005801,
     "end_time": "2022-12-05T08:38:51.026899",
     "exception": false,
     "start_time": "2022-12-05T08:38:51.021098",
     "status": "completed"
    },
    "tags": []
   },
   "source": [
    "## 4. Favourite Dish of Male vs Female wrt to therir Salaries"
   ]
  },
  {
   "cell_type": "code",
   "execution_count": 7,
   "id": "0c8e8bf9",
   "metadata": {
    "execution": {
     "iopub.execute_input": "2022-12-05T08:38:51.040680Z",
     "iopub.status.busy": "2022-12-05T08:38:51.040238Z",
     "iopub.status.idle": "2022-12-05T08:38:52.094963Z",
     "shell.execute_reply": "2022-12-05T08:38:52.093515Z"
    },
    "papermill": {
     "duration": 1.065062,
     "end_time": "2022-12-05T08:38:52.097982",
     "exception": false,
     "start_time": "2022-12-05T08:38:51.032920",
     "status": "completed"
    },
    "tags": []
   },
   "outputs": [
    {
     "data": {
      "image/png": "[encoded data removed]",
      "text/plain": [
       "<Figure size 1152x360 with 5 Axes>"
      ]
     },
     "metadata": {},
     "output_type": "display_data"
    }
   ],
   "source": [
    "fig=sns.catplot(data=df, x = 'gender',y='salary',kind = 'bar', capsize=0.2,ci=95,palette='rocket',col='favourite_dish')\n",
    "#increase size of figure\n",
    "plt.gcf().set_size_inches(16, 5)\n",
    "#change background color\n",
    "fig.set(facecolor='#f5ebeb')\n",
    "#change background color of overall figure\n",
    "plt.gcf().set_facecolor('#f5ebeb')\n",
    "\n"
   ]
  },
  {
   "cell_type": "markdown",
   "id": "5c71c7d1",
   "metadata": {
    "papermill": {
     "duration": 0.006015,
     "end_time": "2022-12-05T08:38:52.110490",
     "exception": false,
     "start_time": "2022-12-05T08:38:52.104475",
     "status": "completed"
    },
    "tags": []
   },
   "source": [
    "### "
   ]
  },
  {
   "cell_type": "markdown",
   "id": "13d4b103",
   "metadata": {
    "papermill": {
     "duration": 0.007102,
     "end_time": "2022-12-05T08:38:52.123970",
     "exception": false,
     "start_time": "2022-12-05T08:38:52.116868",
     "status": "completed"
    },
    "tags": []
   },
   "source": [
    "### 5. Comaprsion of age in Males and females wrt to Qualification"
   ]
  },
  {
   "cell_type": "code",
   "execution_count": 8,
   "id": "61c3f531",
   "metadata": {
    "execution": {
     "iopub.execute_input": "2022-12-05T08:38:52.138805Z",
     "iopub.status.busy": "2022-12-05T08:38:52.138047Z",
     "iopub.status.idle": "2022-12-05T08:38:53.096288Z",
     "shell.execute_reply": "2022-12-05T08:38:53.095215Z"
    },
    "papermill": {
     "duration": 0.968802,
     "end_time": "2022-12-05T08:38:53.098937",
     "exception": false,
     "start_time": "2022-12-05T08:38:52.130135",
     "status": "completed"
    },
    "tags": []
   },
   "outputs": [
    {
     "data": {
      "image/png": "[encoded data removed]",
      "text/plain": [
       "<Figure size 1152x360 with 5 Axes>"
      ]
     },
     "metadata": {},
     "output_type": "display_data"
    }
   ],
   "source": [
    "fig=sns.catplot(data=df, x = 'gender',y='age',kind = 'bar', capsize=0.2,ci=95,palette=('rocket'),col='qualification')\n",
    "\n",
    "plt.gcf().set_size_inches(16, 5)\n",
    "#change background color\n",
    "fig.set(facecolor='#f5ebeb')\n",
    "#change background color of overall figure\n",
    "plt.gcf().set_facecolor('#f5ebeb')"
   ]
  },
  {
   "cell_type": "code",
   "execution_count": null,
   "id": "1efa9826",
   "metadata": {
    "papermill": {
     "duration": 0.006269,
     "end_time": "2022-12-05T08:38:53.111767",
     "exception": false,
     "start_time": "2022-12-05T08:38:53.105498",
     "status": "completed"
    },
    "tags": []
   },
   "outputs": [],
   "source": []
  }
 ],
 "metadata": {
  "kernelspec": {
   "display_name": "Python 3",
   "language": "python",
   "name": "python3"
  },
  "language_info": {
   "codemirror_mode": {
    "name": "ipython",
    "version": 3
   },
   "file_extension": ".py",
   "mimetype": "text/x-python",
   "name": "python",
   "nbconvert_exporter": "python",
   "pygments_lexer": "ipython3",
   "version": "3.7.12"
  },
  "papermill": {
   "default_parameters": {},
   "duration": 16.611118,
   "end_time": "2022-12-05T08:38:54.042436",
   "environment_variables": {},
   "exception": null,
   "input_path": "__notebook__.ipynb",
   "output_path": "__notebook__.ipynb",
   "parameters": {},
   "start_time": "2022-12-05T08:38:37.431318",
   "version": "2.3.4"
  }
 },
 "nbformat": 4,
 "nbformat_minor": 5
}
